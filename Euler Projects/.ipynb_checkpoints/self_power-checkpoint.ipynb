{
 "cells": [
  {
   "cell_type": "markdown",
   "id": "eb498949-db66-4106-830f-1aff04def1c8",
   "metadata": {},
   "source": [
    "## Self Power\n",
    "\n",
    "<p>The series, $1^1 + 2^2 + 3^3 + \\cdots + 10^{10} = 10405071317$.</p>\n",
    "<p>Find the last ten digits of the series, $1^1 + 2^2 + 3^3 + \\cdots + 1000^{1000}$.</p>\n"
   ]
  },
  {
   "cell_type": "code",
   "execution_count": 6,
   "id": "87575ea0-36af-4efe-a847-00f4e467b446",
   "metadata": {},
   "outputs": [
    {
     "data": {
      "text/plain": [
       "9110846700"
      ]
     },
     "execution_count": 6,
     "metadata": {},
     "output_type": "execute_result"
    }
   ],
   "source": [
    "sum = 0 \n",
    "for i in range(1,1001):\n",
    "    sum = sum + i**i\n",
    "sum % 10**10"
   ]
  }
 ],
 "metadata": {
  "kernelspec": {
   "display_name": "Python 3 (ipykernel)",
   "language": "python",
   "name": "python3"
  },
  "language_info": {
   "codemirror_mode": {
    "name": "ipython",
    "version": 3
   },
   "file_extension": ".py",
   "mimetype": "text/x-python",
   "name": "python",
   "nbconvert_exporter": "python",
   "pygments_lexer": "ipython3",
   "version": "3.12.1"
  }
 },
 "nbformat": 4,
 "nbformat_minor": 5
}
