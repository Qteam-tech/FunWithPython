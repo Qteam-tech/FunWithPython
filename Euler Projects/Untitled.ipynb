{
 "cells": [
  {
   "cell_type": "markdown",
   "id": "0add3a6b-8a73-4c0c-8f08-7fcadfca4138",
   "metadata": {},
   "source": [
    "##Names Score\n",
    "<p>Using <a href=\"https://projecteuler.net/resources/documents/0022_names.txt\">names.txt</a> (right click and 'Save Link/Target As...'), a 46K text file containing over five-thousand first names, begin by sorting it into alphabetical order. Then working out the alphabetical value for each name, multiply this value by its alphabetical position in the list to obtain a name score.</p>\n",
    "<p>For example, when the list is sorted into alphabetical order, COLIN, which is worth $3 + 15 + 12 + 9 + 14 = 53$, is the $938$th name in the list. So, COLIN would obtain a score of $938 \\times 53 = 49714$.</p>\n",
    "<p>What is the total of all the name scores in the file?</p>\n"
   ]
  },
  {
   "cell_type": "code",
   "execution_count": 55,
   "id": "0d3bbe2e-494e-4c4a-b924-c30ded23f8e5",
   "metadata": {},
   "outputs": [],
   "source": [
    "import string\n",
    "import re"
   ]
  },
  {
   "cell_type": "code",
   "execution_count": 56,
   "id": "2e88a842-d0f9-4713-8f3a-36e49a653f3f",
   "metadata": {},
   "outputs": [],
   "source": [
    "def value_name(name):\n",
    "    value = 0 \n",
    "    for i in name:\n",
    "        value = value + string.ascii_uppercase.index(i) + 1\n",
    "    return value"
   ]
  },
  {
   "cell_type": "code",
   "execution_count": 57,
   "id": "1577165b-087e-4289-ad79-bc7befacdf6a",
   "metadata": {},
   "outputs": [],
   "source": [
    "file_obj = open(\"0022_names.txt\",\"r\")\n",
    "file_data = file_obj.read()\n",
    "file_data = file_data.strip('\"')"
   ]
  },
  {
   "cell_type": "code",
   "execution_count": 60,
   "id": "d34562f8-9aea-4c18-98ec-d9f3a6a94fc2",
   "metadata": {},
   "outputs": [],
   "source": [
    "re_pattern = r'\",\"'\n",
    "names_list = re.split(re_pattern,file_data)\n",
    "names_list.sort()"
   ]
  },
  {
   "cell_type": "code",
   "execution_count": 61,
   "id": "cfa536b5-23bc-4acc-bc46-dc3a69545b52",
   "metadata": {},
   "outputs": [
    {
     "name": "stdout",
     "output_type": "stream",
     "text": [
      "871198282\n"
     ]
    }
   ],
   "source": [
    "score = 0\n",
    "power = 1\n",
    "for i in names_list:\n",
    "    score = score + value_name(i)*power\n",
    "    power = power + 1\n",
    "print(score)"
   ]
  },
  {
   "cell_type": "code",
   "execution_count": null,
   "id": "b87e9106-9d6e-439e-8055-500e2b2eaa23",
   "metadata": {},
   "outputs": [],
   "source": []
  }
 ],
 "metadata": {
  "kernelspec": {
   "display_name": "Python 3 (ipykernel)",
   "language": "python",
   "name": "python3"
  },
  "language_info": {
   "codemirror_mode": {
    "name": "ipython",
    "version": 3
   },
   "file_extension": ".py",
   "mimetype": "text/x-python",
   "name": "python",
   "nbconvert_exporter": "python",
   "pygments_lexer": "ipython3",
   "version": "3.12.1"
  }
 },
 "nbformat": 4,
 "nbformat_minor": 5
}
